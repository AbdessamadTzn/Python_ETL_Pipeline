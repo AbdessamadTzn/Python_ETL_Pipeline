{
 "cells": [
  {
   "cell_type": "code",
   "execution_count": 1,
   "metadata": {},
   "outputs": [
    {
     "name": "stderr",
     "output_type": "stream",
     "text": [
      "[codecarbon INFO @ 15:35:37] offline tracker init\n",
      "[codecarbon WARNING @ 15:35:37] Multiple instances of codecarbon are allowed to run at the same time.\n"
     ]
    }
   ],
   "source": [
    "import pandas as pd\n",
    "import os\n",
    "import pyodbc\n",
    "import sqlalchemy\n",
    "import carbon_tracker as ct\n",
    "if not os.path.exists('./emissions'):\n",
    "\tos.makedirs('./emissions')\n",
    "ct.start_tracker() "
   ]
  },
  {
   "cell_type": "code",
   "execution_count": 2,
   "metadata": {},
   "outputs": [],
   "source": [
    "ct.update_project_name('Connect to SQL SERVER')"
   ]
  },
  {
   "cell_type": "code",
   "execution_count": 3,
   "metadata": {},
   "outputs": [
    {
     "data": {
      "text/plain": [
       "['SQL Server',\n",
       " 'SQL Server Native Client RDA 11.0',\n",
       " 'ODBC Driver 17 for SQL Server']"
      ]
     },
     "execution_count": 3,
     "metadata": {},
     "output_type": "execute_result"
    }
   ],
   "source": [
    "pyodbc.drivers()"
   ]
  },
  {
   "cell_type": "code",
   "execution_count": 4,
   "metadata": {},
   "outputs": [
    {
     "name": "stdout",
     "output_type": "stream",
     "text": [
      "Connection Successful\n"
     ]
    }
   ],
   "source": [
    "from dotenv import load_dotenv\n",
    "\n",
    "load_dotenv()\n",
    "\n",
    "connection_string = os.getenv('DB_CONNECTION_STRING')\n",
    "conn = pyodbc.connect(connection_string)\n",
    "print(\"Connection Successful\")\n"
   ]
  },
  {
   "cell_type": "code",
   "execution_count": 5,
   "metadata": {},
   "outputs": [],
   "source": [
    "ct.update_project_name('Load csv into SQL Server')"
   ]
  },
  {
   "cell_type": "code",
   "execution_count": 6,
   "metadata": {},
   "outputs": [
    {
     "name": "stdout",
     "output_type": "stream",
     "text": [
      "Inserted 1000 rows...\n",
      "Successfully inserted 1615 rows into PythonETL.dbo.orders\n"
     ]
    }
   ],
   "source": [
    "import csv\n",
    "\n",
    "# Get connection from environment variable\n",
    "connection_string = os.getenv('DB_CONNECTION_STRING')\n",
    "connection = pyodbc.connect(connection_string)\n",
    "\n",
    "try:\n",
    "    with open('DataSources/orders.csv', 'r') as f:\n",
    "        reader = csv.reader(f)\n",
    "        columns = next(reader)\n",
    "\n",
    "        clean_columns = [c.strip().replace(' ', '_') for c in columns]\n",
    "        \n",
    "        table_name = \"PythonETL.dbo.orders\"  \n",
    " \n",
    "        create_query = f\"IF NOT EXISTS (SELECT * FROM sys.tables WHERE name = 'orders' AND schema_id = SCHEMA_ID('dbo') AND OBJECT_ID IN (SELECT OBJECT_ID FROM sys.objects WHERE type = 'U' AND DB_NAME() = 'PythonETL')) BEGIN CREATE TABLE {table_name} ({', '.join([f'{col} VARCHAR(255)' for col in clean_columns])}) END\"\n",
    "        \n",
    "        cursor = connection.cursor()\n",
    "        cursor.execute(create_query)\n",
    "        connection.commit()\n",
    "        \n",
    "        # Insert the data\n",
    "        insert_query = 'INSERT INTO {0}({1}) VALUES ({2})'\n",
    "        insert_query = insert_query.format(\n",
    "            table_name,\n",
    "            ','.join(clean_columns),\n",
    "            ','.join('?' * len(columns))\n",
    "        )\n",
    "        \n",
    "        count = 0\n",
    "        for data in reader:\n",
    "            cursor.execute(insert_query, data)\n",
    "            count += 1\n",
    "            \n",
    "            if count % 1000 == 0:\n",
    "                connection.commit()\n",
    "                print(f\"Inserted {count} rows...\")\n",
    "        \n",
    "        connection.commit()\n",
    "        print(f\"Successfully inserted {count} rows into {table_name}\")\n",
    "        \n",
    "except Exception as e:\n",
    "    print(f\"Error: {str(e)}\")\n",
    "    connection.rollback()\n",
    "finally:\n",
    "    cursor.close()\n",
    "    connection.close()"
   ]
  },
  {
   "cell_type": "code",
   "execution_count": 7,
   "metadata": {},
   "outputs": [],
   "source": [
    "ct.update_project_name('Get inserted data as dataframe')"
   ]
  },
  {
   "cell_type": "code",
   "execution_count": 8,
   "metadata": {},
   "outputs": [
    {
     "name": "stderr",
     "output_type": "stream",
     "text": [
      "C:\\Users\\oo\\AppData\\Local\\Temp\\ipykernel_22568\\2927504220.py:6: UserWarning: pandas only supports SQLAlchemy connectable (engine/connection) or database string URI or sqlite3 DBAPI2 connection. Other DBAPI2 objects are not tested. Please consider using SQLAlchemy.\n",
      "  orders = pd.read_sql(query, conn)\n"
     ]
    },
    {
     "data": {
      "text/html": [
       "<div>\n",
       "<style scoped>\n",
       "    .dataframe tbody tr th:only-of-type {\n",
       "        vertical-align: middle;\n",
       "    }\n",
       "\n",
       "    .dataframe tbody tr th {\n",
       "        vertical-align: top;\n",
       "    }\n",
       "\n",
       "    .dataframe thead th {\n",
       "        text-align: right;\n",
       "    }\n",
       "</style>\n",
       "<table border=\"1\" class=\"dataframe\">\n",
       "  <thead>\n",
       "    <tr style=\"text-align: right;\">\n",
       "      <th></th>\n",
       "      <th>order_id</th>\n",
       "      <th>customer_id</th>\n",
       "      <th>order_status</th>\n",
       "      <th>order_date</th>\n",
       "      <th>required_date</th>\n",
       "      <th>shipped_date</th>\n",
       "      <th>store_id</th>\n",
       "      <th>staff_id</th>\n",
       "    </tr>\n",
       "  </thead>\n",
       "  <tbody>\n",
       "    <tr>\n",
       "      <th>0</th>\n",
       "      <td>1</td>\n",
       "      <td>259</td>\n",
       "      <td>4</td>\n",
       "      <td>2016-01-01</td>\n",
       "      <td>2016-01-03</td>\n",
       "      <td>2016-01-03</td>\n",
       "      <td>1</td>\n",
       "      <td>2</td>\n",
       "    </tr>\n",
       "    <tr>\n",
       "      <th>1</th>\n",
       "      <td>2</td>\n",
       "      <td>1212</td>\n",
       "      <td>4</td>\n",
       "      <td>2016-01-01</td>\n",
       "      <td>2016-01-04</td>\n",
       "      <td>2016-01-03</td>\n",
       "      <td>2</td>\n",
       "      <td>6</td>\n",
       "    </tr>\n",
       "    <tr>\n",
       "      <th>2</th>\n",
       "      <td>3</td>\n",
       "      <td>523</td>\n",
       "      <td>4</td>\n",
       "      <td>2016-01-02</td>\n",
       "      <td>2016-01-05</td>\n",
       "      <td>2016-01-03</td>\n",
       "      <td>2</td>\n",
       "      <td>7</td>\n",
       "    </tr>\n",
       "    <tr>\n",
       "      <th>3</th>\n",
       "      <td>4</td>\n",
       "      <td>175</td>\n",
       "      <td>4</td>\n",
       "      <td>2016-01-03</td>\n",
       "      <td>2016-01-04</td>\n",
       "      <td>2016-01-05</td>\n",
       "      <td>1</td>\n",
       "      <td>3</td>\n",
       "    </tr>\n",
       "    <tr>\n",
       "      <th>4</th>\n",
       "      <td>5</td>\n",
       "      <td>1324</td>\n",
       "      <td>4</td>\n",
       "      <td>2016-01-03</td>\n",
       "      <td>2016-01-06</td>\n",
       "      <td>2016-01-06</td>\n",
       "      <td>2</td>\n",
       "      <td>6</td>\n",
       "    </tr>\n",
       "  </tbody>\n",
       "</table>\n",
       "</div>"
      ],
      "text/plain": [
       "  order_id customer_id order_status  order_date required_date shipped_date  \\\n",
       "0        1         259            4  2016-01-01    2016-01-03   2016-01-03   \n",
       "1        2        1212            4  2016-01-01    2016-01-04   2016-01-03   \n",
       "2        3         523            4  2016-01-02    2016-01-05   2016-01-03   \n",
       "3        4         175            4  2016-01-03    2016-01-04   2016-01-05   \n",
       "4        5        1324            4  2016-01-03    2016-01-06   2016-01-06   \n",
       "\n",
       "  store_id staff_id  \n",
       "0        1        2  \n",
       "1        2        6  \n",
       "2        2        7  \n",
       "3        1        3  \n",
       "4        2        6  "
      ]
     },
     "execution_count": 8,
     "metadata": {},
     "output_type": "execute_result"
    }
   ],
   "source": [
    "query = \"\"\"\n",
    "SELECT *\n",
    "FROM PythonETL.dbo.orders\n",
    "\"\"\"\n",
    "\n",
    "orders = pd.read_sql(query, conn)\n",
    "orders.head()\n"
   ]
  },
  {
   "cell_type": "code",
   "execution_count": 10,
   "metadata": {},
   "outputs": [],
   "source": [
    "conn.close()"
   ]
  },
  {
   "cell_type": "code",
   "execution_count": 12,
   "metadata": {},
   "outputs": [
    {
     "name": "stdout",
     "output_type": "stream",
     "text": [
      "Total Emissions per Project:\n",
      "\n",
      "Project Name: Python ETL Pipeline\n",
      "Total Emissions: 0.00 kg CO2\n",
      "Run Duration: 0 days, 00 hours, 00 minutes and 19 seconds\n",
      "Total Duration: 0 days, 00 hours, 00 minutes and 00 seconds\n",
      "Energy Consumed: 0.00 kWh\n",
      "CPU Power: 60.00 W\n",
      "GPU Power: 0.00 W\n",
      "RAM Power: 10.00 W\n",
      "\n",
      "Travel Equivalences:\n",
      "  - driving an electric car: 0.0002 km\n",
      "  - traveling by TGV: 0.0089 km\n",
      "\n",
      "Production Equivalences:\n",
      "\n",
      "Consumption Equivalences:\n",
      "  - hours of video streaming: 0.0003\n",
      "\n",
      "Project Name: Python ETL Pipeline Connect to SQL SERVER\n",
      "Total Emissions: 0.00 kg CO2\n",
      "Run Duration: 0 days, 00 hours, 00 minutes and 28 seconds\n",
      "Total Duration: 0 days, 00 hours, 00 minutes and 00 seconds\n",
      "Energy Consumed: 0.00 kWh\n",
      "CPU Power: 60.00 W\n",
      "GPU Power: 0.00 W\n",
      "RAM Power: 10.00 W\n",
      "\n",
      "Travel Equivalences:\n",
      "  - driving a thermal car: 0.0001 km\n",
      "  - flying by plane: 0.0001 km\n",
      "  - driving an electric car: 0.0003 km\n",
      "  - traveling by TGV: 0.0133 km\n",
      "\n",
      "Production Equivalences:\n",
      "\n",
      "Consumption Equivalences:\n",
      "  - hours of video streaming: 0.0005\n",
      "\n",
      "Project Name: Python ETL Pipeline Get inserted data as dataframe\n",
      "Total Emissions: 0.00 kg CO2\n",
      "Run Duration: 0 days, 00 hours, 01 minutes and 16 seconds\n",
      "Total Duration: 0 days, 00 hours, 00 minutes and 00 seconds\n",
      "Energy Consumed: 0.00 kWh\n",
      "CPU Power: 60.00 W\n",
      "GPU Power: 0.00 W\n",
      "RAM Power: 10.00 W\n",
      "\n",
      "Travel Equivalences:\n",
      "  - driving a thermal car: 0.0004 km\n",
      "  - flying by plane: 0.0004 km\n",
      "  - driving an electric car: 0.0008 km\n",
      "  - traveling by TGV: 0.0351 km\n",
      "\n",
      "Production Equivalences:\n",
      "  - liters of bottled water: 0.0002\n",
      "\n",
      "Consumption Equivalences:\n",
      "  - vegetarian meals: 0.0002\n",
      "  - hours of video streaming: 0.0013\n",
      "\n",
      "Project Name: Python ETL Pipeline Load csv into SQL Server\n",
      "Total Emissions: 0.00 kg CO2\n",
      "Run Duration: 0 days, 00 hours, 04 minutes and 12 seconds\n",
      "Total Duration: 0 days, 00 hours, 00 minutes and 00 seconds\n",
      "Energy Consumed: 0.00 kWh\n",
      "CPU Power: 60.00 W\n",
      "GPU Power: 0.00 W\n",
      "RAM Power: 10.00 W\n",
      "\n",
      "Travel Equivalences:\n",
      "  - driving a thermal car: 0.0013 km\n",
      "  - flying by plane: 0.0012 km\n",
      "  - driving an electric car: 0.0027 km\n",
      "  - traveling by TGV: 0.1164 km\n",
      "\n",
      "Production Equivalences:\n",
      "  - liters of bottled water: 0.0006\n",
      "\n",
      "Consumption Equivalences:\n",
      "  - vegetarian meals: 0.0005\n",
      "  - hours of video streaming: 0.0043\n"
     ]
    }
   ],
   "source": [
    "ct.stop_tracker()\n",
    "ct.show_metrics()"
   ]
  },
  {
   "cell_type": "code",
   "execution_count": null,
   "metadata": {},
   "outputs": [],
   "source": []
  }
 ],
 "metadata": {
  "kernelspec": {
   "display_name": "venv",
   "language": "python",
   "name": "python3"
  },
  "language_info": {
   "codemirror_mode": {
    "name": "ipython",
    "version": 3
   },
   "file_extension": ".py",
   "mimetype": "text/x-python",
   "name": "python",
   "nbconvert_exporter": "python",
   "pygments_lexer": "ipython3",
   "version": "3.11.7"
  }
 },
 "nbformat": 4,
 "nbformat_minor": 2
}
