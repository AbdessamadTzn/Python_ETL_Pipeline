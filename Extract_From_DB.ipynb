{
 "cells": [
  {
   "cell_type": "code",
   "execution_count": 1,
   "metadata": {},
   "outputs": [],
   "source": [
    "import pandas as pd\n",
    "import os\n",
    "import pyodbc\n",
    "import sqlalchemy\n"
   ]
  },
  {
   "cell_type": "code",
   "execution_count": 2,
   "metadata": {},
   "outputs": [
    {
     "data": {
      "text/plain": [
       "['SQL Server',\n",
       " 'SQL Server Native Client RDA 11.0',\n",
       " 'ODBC Driver 17 for SQL Server']"
      ]
     },
     "execution_count": 2,
     "metadata": {},
     "output_type": "execute_result"
    }
   ],
   "source": [
    "pyodbc.drivers()"
   ]
  },
  {
   "cell_type": "code",
   "execution_count": 17,
   "metadata": {},
   "outputs": [
    {
     "name": "stdout",
     "output_type": "stream",
     "text": [
      "Connection Successful\n"
     ]
    }
   ],
   "source": [
    "from dotenv import load_dotenv\n",
    "\n",
    "load_dotenv()\n",
    "\n",
    "connection_string = os.getenv('DB_CONNECTION_STRING')\n",
    "conn = pyodbc.connect(connection_string)\n",
    "print(\"Connection Successful\")\n"
   ]
  },
  {
   "cell_type": "code",
   "execution_count": null,
   "metadata": {},
   "outputs": [
    {
     "name": "stdout",
     "output_type": "stream",
     "text": [
      "Inserted 1000 rows...\n",
      "Successfully inserted 1615 rows into PythonETL.dbo.orders\n"
     ]
    }
   ],
   "source": [
    "import csv\n",
    "\n",
    "# Get connection from environment variable\n",
    "connection_string = os.getenv('DB_CONNECTION_STRING')\n",
    "connection = pyodbc.connect(connection_string)\n",
    "\n",
    "try:\n",
    "    with open('DataSources/orders.csv', 'r') as f:\n",
    "        reader = csv.reader(f)\n",
    "        columns = next(reader)\n",
    "        \n",
    "        \n",
    "        # Clean column names for SQL\n",
    "        clean_columns = [c.strip().replace(' ', '_') for c in columns]\n",
    "        \n",
    "        # Specify database and table\n",
    "        table_name = \"PythonETL.dbo.orders\"  # Using the name from your error message\n",
    "        \n",
    "        # Create table if it doesn't exist\n",
    "        # Assuming all columns are VARCHAR(255) for simplicity\n",
    "        create_query = f\"IF NOT EXISTS (SELECT * FROM sys.tables WHERE name = 'orders' AND schema_id = SCHEMA_ID('dbo') AND OBJECT_ID IN (SELECT OBJECT_ID FROM sys.objects WHERE type = 'U' AND DB_NAME() = 'PythonETL')) BEGIN CREATE TABLE {table_name} ({', '.join([f'{col} VARCHAR(255)' for col in clean_columns])}) END\"\n",
    "        \n",
    "        cursor = connection.cursor()\n",
    "        cursor.execute(create_query)\n",
    "        connection.commit()\n",
    "        \n",
    "        # Now insert the data\n",
    "        insert_query = 'INSERT INTO {0}({1}) VALUES ({2})'\n",
    "        insert_query = insert_query.format(\n",
    "            table_name,\n",
    "            ','.join(clean_columns),\n",
    "            ','.join('?' * len(columns))\n",
    "        )\n",
    "        \n",
    "        count = 0\n",
    "        for data in reader:\n",
    "            cursor.execute(insert_query, data)\n",
    "            count += 1\n",
    "            \n",
    "            if count % 1000 == 0:\n",
    "                connection.commit()\n",
    "                print(f\"Inserted {count} rows...\")\n",
    "        \n",
    "        connection.commit()\n",
    "        print(f\"Successfully inserted {count} rows into {table_name}\")\n",
    "        \n",
    "except Exception as e:\n",
    "    print(f\"Error: {str(e)}\")\n",
    "    connection.rollback()\n",
    "finally:\n",
    "    cursor.close()\n",
    "    connection.close()"
   ]
  },
  {
   "cell_type": "code",
   "execution_count": 39,
   "metadata": {},
   "outputs": [
    {
     "name": "stderr",
     "output_type": "stream",
     "text": [
      "C:\\Users\\oo\\AppData\\Local\\Temp\\ipykernel_4464\\3171140347.py:6: UserWarning: pandas only supports SQLAlchemy connectable (engine/connection) or database string URI or sqlite3 DBAPI2 connection. Other DBAPI2 objects are not tested. Please consider using SQLAlchemy.\n",
      "  orders = pd.read_sql(query, conn)\n"
     ]
    },
    {
     "data": {
      "text/html": [
       "<div>\n",
       "<style scoped>\n",
       "    .dataframe tbody tr th:only-of-type {\n",
       "        vertical-align: middle;\n",
       "    }\n",
       "\n",
       "    .dataframe tbody tr th {\n",
       "        vertical-align: top;\n",
       "    }\n",
       "\n",
       "    .dataframe thead th {\n",
       "        text-align: right;\n",
       "    }\n",
       "</style>\n",
       "<table border=\"1\" class=\"dataframe\">\n",
       "  <thead>\n",
       "    <tr style=\"text-align: right;\">\n",
       "      <th></th>\n",
       "      <th>order_id</th>\n",
       "      <th>customer_id</th>\n",
       "      <th>order_status</th>\n",
       "      <th>order_date</th>\n",
       "      <th>required_date</th>\n",
       "      <th>shipped_date</th>\n",
       "      <th>store_id</th>\n",
       "      <th>staff_id</th>\n",
       "    </tr>\n",
       "  </thead>\n",
       "  <tbody>\n",
       "    <tr>\n",
       "      <th>0</th>\n",
       "      <td>1</td>\n",
       "      <td>259</td>\n",
       "      <td>4</td>\n",
       "      <td>2016-01-01</td>\n",
       "      <td>2016-01-03</td>\n",
       "      <td>2016-01-03</td>\n",
       "      <td>1</td>\n",
       "      <td>2</td>\n",
       "    </tr>\n",
       "    <tr>\n",
       "      <th>1</th>\n",
       "      <td>2</td>\n",
       "      <td>1212</td>\n",
       "      <td>4</td>\n",
       "      <td>2016-01-01</td>\n",
       "      <td>2016-01-04</td>\n",
       "      <td>2016-01-03</td>\n",
       "      <td>2</td>\n",
       "      <td>6</td>\n",
       "    </tr>\n",
       "    <tr>\n",
       "      <th>2</th>\n",
       "      <td>3</td>\n",
       "      <td>523</td>\n",
       "      <td>4</td>\n",
       "      <td>2016-01-02</td>\n",
       "      <td>2016-01-05</td>\n",
       "      <td>2016-01-03</td>\n",
       "      <td>2</td>\n",
       "      <td>7</td>\n",
       "    </tr>\n",
       "    <tr>\n",
       "      <th>3</th>\n",
       "      <td>4</td>\n",
       "      <td>175</td>\n",
       "      <td>4</td>\n",
       "      <td>2016-01-03</td>\n",
       "      <td>2016-01-04</td>\n",
       "      <td>2016-01-05</td>\n",
       "      <td>1</td>\n",
       "      <td>3</td>\n",
       "    </tr>\n",
       "    <tr>\n",
       "      <th>4</th>\n",
       "      <td>5</td>\n",
       "      <td>1324</td>\n",
       "      <td>4</td>\n",
       "      <td>2016-01-03</td>\n",
       "      <td>2016-01-06</td>\n",
       "      <td>2016-01-06</td>\n",
       "      <td>2</td>\n",
       "      <td>6</td>\n",
       "    </tr>\n",
       "  </tbody>\n",
       "</table>\n",
       "</div>"
      ],
      "text/plain": [
       "  order_id customer_id order_status  order_date required_date shipped_date  \\\n",
       "0        1         259            4  2016-01-01    2016-01-03   2016-01-03   \n",
       "1        2        1212            4  2016-01-01    2016-01-04   2016-01-03   \n",
       "2        3         523            4  2016-01-02    2016-01-05   2016-01-03   \n",
       "3        4         175            4  2016-01-03    2016-01-04   2016-01-05   \n",
       "4        5        1324            4  2016-01-03    2016-01-06   2016-01-06   \n",
       "\n",
       "  store_id staff_id  \n",
       "0        1        2  \n",
       "1        2        6  \n",
       "2        2        7  \n",
       "3        1        3  \n",
       "4        2        6  "
      ]
     },
     "execution_count": 39,
     "metadata": {},
     "output_type": "execute_result"
    }
   ],
   "source": [
    "query = \"\"\"\n",
    "SELECT *\n",
    "FROM PythonETL.dbo.orders\n",
    "\"\"\"\n",
    "\n",
    "orders = pd.read_sql(query, conn)\n",
    "orders.head()\n",
    "\n",
    "\n"
   ]
  },
  {
   "cell_type": "code",
   "execution_count": 6,
   "metadata": {},
   "outputs": [],
   "source": [
    "conn.close()"
   ]
  }
 ],
 "metadata": {
  "kernelspec": {
   "display_name": "venv",
   "language": "python",
   "name": "python3"
  },
  "language_info": {
   "codemirror_mode": {
    "name": "ipython",
    "version": 3
   },
   "file_extension": ".py",
   "mimetype": "text/x-python",
   "name": "python",
   "nbconvert_exporter": "python",
   "pygments_lexer": "ipython3",
   "version": "3.11.7"
  }
 },
 "nbformat": 4,
 "nbformat_minor": 2
}
